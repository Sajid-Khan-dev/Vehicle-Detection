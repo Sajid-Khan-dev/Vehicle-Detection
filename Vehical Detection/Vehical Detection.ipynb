{
 "cells": [
  {
   "cell_type": "code",
   "execution_count": null,
   "id": "6f1d8a04-8d5c-4f7c-8de8-e84801f5a55a",
   "metadata": {},
   "outputs": [],
   "source": [
    "pip install opencv-python"
   ]
  },
  {
   "cell_type": "code",
   "execution_count": null,
   "id": "b0bae1aa-daf1-4305-b617-b6dd0d0f68e7",
   "metadata": {},
   "outputs": [],
   "source": [
    "pip install imutils"
   ]
  },
  {
   "cell_type": "code",
   "execution_count": null,
   "id": "878c3148-a696-4957-bcbd-c8fbb6faf1e6",
   "metadata": {},
   "outputs": [],
   "source": [
    "import cv2\n",
    "import imutils\n",
    "cascade_src = 'cars.xml'\n",
    "car_cascade = cv2.CascadeClassifier(cascade_src)\n",
    "cam=cv2.VideoCapture(0)\n",
    "\n",
    "while True:\n",
    "    detected = 0\n",
    "    _,img=cam.read() #reading frame from camera\n",
    "    img=imutils.resize(img,width=300) #resize to 300\n",
    "    gray = cv2.cvtColor(img, cv2.COLOR_BGR2GRAY) #color to Grayscale\n",
    "    cars = car_cascade.detectMultiScale(gray, 1.1, 1) #coordinates of vehicle in a frame\n",
    "    for (x,y,w,h) in cars:\n",
    "        cv2.rectangle(img,(x,y),(x+w,y+h),(0,0,255),2)\n",
    "    cv2.imshow(\"Frame\", img)\n",
    "    b=str(len(cars))\n",
    "    a= int(b)\n",
    "    detected=a\n",
    "    n=detected\n",
    "    print(\"------------------------------------------------\")\n",
    "    print (\"North: %d \"%(n))\n",
    "    if n>=2:\n",
    "        print (\"North More Traffic\")\n",
    "    else:\n",
    "        print (\"no traffic\")\n",
    "    if cv2.waitKey(33) == 27:\n",
    "        break\n",
    "\n",
    "cam.release()\n",
    "cv2.destroyAllWindows()"
   ]
  },
  {
   "cell_type": "code",
   "execution_count": null,
   "id": "89104cb4-af14-4b86-933b-532f3a3c0f31",
   "metadata": {},
   "outputs": [],
   "source": [
    "# Just to check if web cam is running\n",
    "\n",
    "# import cv2\n",
    "# cam = cv2.VideoCapture(0)\n",
    "\n",
    "# if not cam.isOpened():\n",
    "#    print(\"Error: Could not open webcam.\")\n",
    "#    exit()"
   ]
  }
 ],
 "metadata": {
  "kernelspec": {
   "display_name": "Python 3 (ipykernel)",
   "language": "python",
   "name": "python3"
  },
  "language_info": {
   "codemirror_mode": {
    "name": "ipython",
    "version": 3
   },
   "file_extension": ".py",
   "mimetype": "text/x-python",
   "name": "python",
   "nbconvert_exporter": "python",
   "pygments_lexer": "ipython3",
   "version": "3.13.5"
  }
 },
 "nbformat": 4,
 "nbformat_minor": 5
}
